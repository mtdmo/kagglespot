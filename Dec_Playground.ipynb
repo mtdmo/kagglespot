{
  "nbformat": 4,
  "nbformat_minor": 0,
  "metadata": {
    "colab": {
      "name": "Dec Playground.ipynb",
      "provenance": [],
      "collapsed_sections": [],
      "mount_file_id": "1vzT8k3R_BerAzf95KigfNv4-BHEdweKY",
      "authorship_tag": "ABX9TyMX4MQuDeHHVREHgRvW1tMB",
      "include_colab_link": true
    },
    "kernelspec": {
      "name": "python3",
      "display_name": "Python 3"
    },
    "language_info": {
      "name": "python"
    }
  },
  "cells": [
    {
      "cell_type": "markdown",
      "metadata": {
        "id": "view-in-github",
        "colab_type": "text"
      },
      "source": [
        "<a href=\"https://colab.research.google.com/github/mtdmo/kagglespot/blob/main/Dec_Playground.ipynb\" target=\"_parent\"><img src=\"https://colab.research.google.com/assets/colab-badge.svg\" alt=\"Open In Colab\"/></a>"
      ]
    },
    {
      "cell_type": "markdown",
      "source": [
        "# Prep"
      ],
      "metadata": {
        "id": "txZ0-dem3psg"
      }
    },
    {
      "cell_type": "code",
      "execution_count": 20,
      "metadata": {
        "colab": {
          "base_uri": "https://localhost:8080/",
          "height": 17
        },
        "id": "dlEiDwcvwJxV",
        "outputId": "973d7a7a-fd37-45ed-bbec-e6327cca4b5e"
      },
      "outputs": [
        {
          "output_type": "display_data",
          "data": {
            "application/javascript": [
              "function ClickConnect(){\n",
              "console.log(\"Working\");\n",
              "document.querySelector(\"colab-toolbar-button#connect\").click()\n",
              "}setInterval(ClickConnect,60000)"
            ],
            "text/plain": [
              "<IPython.core.display.Javascript object>"
            ]
          },
          "metadata": {}
        }
      ],
      "source": [
        "%%javascript\n",
        "function ClickConnect(){\n",
        "console.log(\"Working\");\n",
        "document.querySelector(\"colab-toolbar-button#connect\").click()\n",
        "}setInterval(ClickConnect,60000)"
      ]
    },
    {
      "cell_type": "code",
      "source": [
        "!pip install mljar-supervised"
      ],
      "metadata": {
        "id": "kF_WIc1NwXBi"
      },
      "execution_count": null,
      "outputs": []
    },
    {
      "cell_type": "code",
      "source": [
        "!pip install twilio"
      ],
      "metadata": {
        "id": "VjeJ2-em-4vn"
      },
      "execution_count": null,
      "outputs": []
    },
    {
      "cell_type": "code",
      "source": [
        "import json\n",
        "with open('/content/drive/MyDrive/Colab Notebooks/Config files/cred.json') as f:\n",
        "  data = json.load(f)"
      ],
      "metadata": {
        "id": "mfj38c7VFSa4"
      },
      "execution_count": 22,
      "outputs": []
    },
    {
      "cell_type": "code",
      "source": [
        "import pandas as pd\n",
        "import seaborn as sn\n",
        "from google.colab import files\n",
        "from sklearn.metrics import accuracy_score\n",
        "from sklearn.model_selection import train_test_split\n",
        "from supervised import AutoML\n",
        "from google.colab import files"
      ],
      "metadata": {
        "id": "1RcacaU9wPEk"
      },
      "execution_count": 23,
      "outputs": []
    },
    {
      "cell_type": "code",
      "source": [
        "from twilio.rest import Client\n",
        "client = Client(data['TwilioAccount'], data['TwilioKey'])"
      ],
      "metadata": {
        "id": "gIcHiycQ-v9g"
      },
      "execution_count": 24,
      "outputs": []
    },
    {
      "cell_type": "markdown",
      "source": [
        "# Data Importing"
      ],
      "metadata": {
        "id": "wEaVcYYi3zdX"
      }
    },
    {
      "cell_type": "code",
      "source": [
        "## Pull in Kaggle data\n",
        "dftest = pd.read_csv(\"/content/drive/MyDrive/Colab Notebooks/Dec Playground/test.csv\")"
      ],
      "metadata": {
        "id": "Qc_p-oPlwVir"
      },
      "execution_count": 25,
      "outputs": []
    },
    {
      "cell_type": "code",
      "source": [
        "dftrain = pd.read_csv(\"/content/drive/MyDrive/Colab Notebooks/Dec Playground/train.csv\")"
      ],
      "metadata": {
        "id": "G-vtuoj3LLUj"
      },
      "execution_count": 26,
      "outputs": []
    },
    {
      "cell_type": "code",
      "source": [
        "#print(\"Test Data Columns:\")\n",
        "#print(dftest.columns)\n",
        "#print(\"\\n\")\n",
        "#print(\"Training Data Columns:\")\n",
        "#print(dftrain.columns)"
      ],
      "metadata": {
        "id": "8n4IEeI9yfwj"
      },
      "execution_count": 27,
      "outputs": []
    },
    {
      "cell_type": "code",
      "source": [
        "dftrain[\"Cover_Type\"].value_counts()"
      ],
      "metadata": {
        "colab": {
          "base_uri": "https://localhost:8080/"
        },
        "id": "mm0o9BR2zwwY",
        "outputId": "4a7f8a9c-4afd-4a00-f65f-3dbb41c34d9a"
      },
      "execution_count": 28,
      "outputs": [
        {
          "output_type": "execute_result",
          "data": {
            "text/plain": [
              "2    2262087\n",
              "1    1468136\n",
              "3     195712\n",
              "7      62261\n",
              "6      11426\n",
              "4        377\n",
              "5          1\n",
              "Name: Cover_Type, dtype: int64"
            ]
          },
          "metadata": {},
          "execution_count": 28
        }
      ]
    },
    {
      "cell_type": "code",
      "source": [
        "#Confirming entire load of CSV file\n",
        "sum(dftrain[\"Cover_Type\"].value_counts())/4000000"
      ],
      "metadata": {
        "colab": {
          "base_uri": "https://localhost:8080/"
        },
        "id": "d3nKwi3-KKOk",
        "outputId": "a9cf543f-fdfb-4510-8e5f-9af468c50914"
      },
      "execution_count": 29,
      "outputs": [
        {
          "output_type": "execute_result",
          "data": {
            "text/plain": [
              "1.0"
            ]
          },
          "metadata": {},
          "execution_count": 29
        }
      ]
    },
    {
      "cell_type": "code",
      "source": [
        "X_train, X_test, y_train, y_test = train_test_split(\n",
        "    dftrain[dftrain.columns[:-1]], dftrain[\"Cover_Type\"], test_size=0.25,\n",
        ")"
      ],
      "metadata": {
        "id": "ATlqmFzgycRL"
      },
      "execution_count": 30,
      "outputs": []
    },
    {
      "cell_type": "markdown",
      "source": [
        "# Model Generation"
      ],
      "metadata": {
        "id": "o5mXKXi74DwC"
      }
    },
    {
      "cell_type": "code",
      "source": [
        "# train models with AutoML\n",
        "automl = AutoML(mode=\"Explain\", algorithms=[\"Xgboost\"])\n",
        "automl.fit(X_train, y_train)\n",
        "\n",
        "# compute the accuracy on test data\n",
        "predictions = automl.predict_all(X_test)\n",
        "print(predictions.head())\n",
        "print(\"Test accuracy:\", accuracy_score(y_test, predictions[\"label\"].astype(int)))\n",
        "testacc = \"Test accuracy:\", accuracy_score(y_test, predictions[\"label\"].astype(int))\n",
        "#Text me the model is completed\n",
        "try:\n",
        "  client.messages.create(to=\"+15733563395\", \n",
        "                        from_=\"+13305221059\", \n",
        "                        body=f\"Hi I am done with the model. Model Results: {testacc}\")\n",
        "except:\n",
        "  print(\"Error sending text message\")\n",
        "#Zip the AutoML contents and download\n",
        "try:\n",
        "  !zip -r /content/file.zip /content/AutoML_1/\n",
        "  files.download(\"/content/file.zip\")\n",
        "except:\n",
        "  print(\"Error saving AutoML file\")"
      ],
      "metadata": {
        "colab": {
          "base_uri": "https://localhost:8080/"
        },
        "id": "VkcM454y0jve",
        "outputId": "da23e0b4-e55a-422c-acb4-2579ba32767e"
      },
      "execution_count": null,
      "outputs": [
        {
          "output_type": "stream",
          "name": "stdout",
          "text": [
            "AutoML directory: AutoML_5\n",
            "The task is multiclass_classification with evaluation metric logloss\n",
            "AutoML will use algorithms: ['Xgboost']\n",
            "AutoML will ensemble available models\n",
            "AutoML steps: ['simple_algorithms', 'default_algorithms', 'ensemble']\n",
            "Skip simple_algorithms because no parameters were generated.\n",
            "* Step default_algorithms will try to check up to 1 model\n"
          ]
        }
      ]
    },
    {
      "cell_type": "markdown",
      "source": [
        "# Submission File Creation"
      ],
      "metadata": {
        "id": "u3-w8cq53gPr"
      }
    },
    {
      "cell_type": "code",
      "source": [
        "automl = AutoML(results_path='/content/drive/MyDrive/Colab Notebooks/Dec Playground/AutoML_1')\n",
        "finprediction = automl.predict(dftest)"
      ],
      "metadata": {
        "id": "0GAdYcR2QkXL"
      },
      "execution_count": null,
      "outputs": []
    },
    {
      "cell_type": "code",
      "source": [
        "finpredDF = pd.DataFrame(finprediction)"
      ],
      "metadata": {
        "id": "5wB47IFJy0oz"
      },
      "execution_count": null,
      "outputs": []
    },
    {
      "cell_type": "code",
      "source": [
        "finpredDF2 = dftest.join(finpredDF)"
      ],
      "metadata": {
        "id": "tb0uUpM_0PEN"
      },
      "execution_count": null,
      "outputs": []
    },
    {
      "cell_type": "code",
      "source": [
        "finpredDF2.columns = [*finpredDF2.columns[:-1], 'Cover_Type']"
      ],
      "metadata": {
        "id": "5BHhlzZc0ZVy"
      },
      "execution_count": null,
      "outputs": []
    },
    {
      "cell_type": "code",
      "source": [
        "finpredDF2[['Id','Cover_Type']].to_csv(\"submission1.csv\", index=False)"
      ],
      "metadata": {
        "id": "TgnKEzti2Tj2"
      },
      "execution_count": null,
      "outputs": []
    }
  ]
}